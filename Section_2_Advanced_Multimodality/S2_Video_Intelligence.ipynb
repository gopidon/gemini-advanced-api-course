{
  "nbformat": 4,
  "nbformat_minor": 0,
  "metadata": {
    "colab": {
      "provenance": []
    },
    "kernelspec": {
      "name": "python3",
      "display_name": "Python 3"
    },
    "language_info": {
      "name": "python"
    }
  },
  "cells": [
    {
      "cell_type": "markdown",
      "source": [
        "# Lesson: Video Intelligence and Understanding\n",
        "\n",
        "Welcome to this lesson on analyzing video with the Gemini API. Gemini's powerful multimodal capabilities allow it to \"watch\" a video, understand its content, and answer detailed questions about it.\n",
        "\n",
        "In this notebook, we will:\n",
        "1.  **Process a \"How-To\" Video:** We'll analyze a short video about making a paper airplane to ask questions and extract a time-stamped list of steps.\n",
        "2.  **Perform Creative Analysis:** We'll use a short, scenic drone video of Yosemite National Park and ask the model to perform a creative writing task."
      ],
      "metadata": {
        "id": "fxmfsdn9bkKp"
      }
    },
    {
      "cell_type": "code",
      "execution_count": 1,
      "metadata": {
        "colab": {
          "base_uri": "https://localhost:8080/"
        },
        "id": "OQDstrwBe1Lv",
        "outputId": "81b31db1-ce5e-4452-efe2-24052eec5ee4"
      },
      "outputs": [
        {
          "output_type": "stream",
          "name": "stdout",
          "text": [
            "\u001b[?25l     \u001b[90m━━━━━━━━━━━━━━━━━━━━━━━━━━━━━━━━━━━━━━━━\u001b[0m \u001b[32m0.0/45.3 kB\u001b[0m \u001b[31m?\u001b[0m eta \u001b[36m-:--:--\u001b[0m\r\u001b[2K     \u001b[90m━━━━━━━━━━━━━━━━━━━━━━━━━━━━━━━━━━━━━━━━\u001b[0m \u001b[32m45.3/45.3 kB\u001b[0m \u001b[31m2.0 MB/s\u001b[0m eta \u001b[36m0:00:00\u001b[0m\n",
            "\u001b[?25h\u001b[?25l   \u001b[90m━━━━━━━━━━━━━━━━━━━━━━━━━━━━━━━━━━━━━━━━\u001b[0m \u001b[32m0.0/236.2 kB\u001b[0m \u001b[31m?\u001b[0m eta \u001b[36m-:--:--\u001b[0m\r\u001b[2K   \u001b[90m━━━━━━━━━━━━━━━━━━━━━━━━━━━━━━━━━━━━━━━━\u001b[0m \u001b[32m236.2/236.2 kB\u001b[0m \u001b[31m9.3 MB/s\u001b[0m eta \u001b[36m0:00:00\u001b[0m\n",
            "\u001b[?25h\u001b[31mERROR: pip's dependency resolver does not currently take into account all the packages that are installed. This behaviour is the source of the following dependency conflicts.\n",
            "google-adk 1.15.1 requires google-genai!=1.37.0,!=1.38.0,!=1.39.0,<=1.40.0,>=1.21.1, but you have google-genai 1.42.0 which is incompatible.\u001b[0m\u001b[31m\n",
            "\u001b[0m"
          ]
        }
      ],
      "source": [
        "#@title 1. Setup\n",
        "# Install the Google AI Python SDK\n",
        "!pip install -q -U google-genai"
      ]
    },
    {
      "cell_type": "code",
      "source": [
        "#@title 2. Configure your API Key\n",
        "# Use the \"Secrets\" tab in Colab (click the key icon on the left) to store your\n",
        "# API key with the name \"GOOGLE_API_KEY\".\n",
        "\n",
        "from google import genai\n",
        "from google.colab import userdata\n",
        "\n",
        "try:\n",
        "    GOOGLE_API_KEY=userdata.get('GOOGLE_API_KEY')\n",
        "    client = genai.Client(api_key=GOOGLE_API_KEY)\n",
        "except userdata.SecretNotFoundError as e:\n",
        "    print('Secret not found. Please add your GOOGLE_API_KEY to the Colab Secrets Manager.')"
      ],
      "metadata": {
        "id": "IPsWASQ0by_j"
      },
      "execution_count": 2,
      "outputs": []
    },
    {
      "cell_type": "markdown",
      "source": [
        "## Part 1: Analyzing a \"How-To\" Video\n",
        "\n",
        "First, we'll download a short instructional video from YouTube, upload it to the Gemini API, and ask questions about its content."
      ],
      "metadata": {
        "id": "AJ9sfcvCb4Rf"
      }
    },
    {
      "cell_type": "code",
      "source": [
        "#@title Download and Upload the \"How-To\" Video\n",
        "# A working video on how to make an easy paper airplane\n",
        "\n",
        "URL = \"https://raw.githubusercontent.com/gopidon/gemini-advanced-api-course/main/Section_2_Advanced_Multimodality/videos/airplane.mp4\"\n",
        "!wget -q $URL -O airplane.mp4"
      ],
      "metadata": {
        "id": "ZAbT2vsTczqs"
      },
      "execution_count": 3,
      "outputs": []
    },
    {
      "cell_type": "code",
      "source": [
        "#@title Download and Upload the airplane video\n",
        "print(\"Uploading video file to the File API...\")\n",
        "airplane_video = client.files.upload(file='airplane.mp4')\n",
        "\n",
        "print(f\"File uploaded successfully\")"
      ],
      "metadata": {
        "colab": {
          "base_uri": "https://localhost:8080/"
        },
        "id": "XdixjtgwdTWc",
        "outputId": "69efbccc-ede3-4991-9e0a-121fe75b92fe"
      },
      "execution_count": 5,
      "outputs": [
        {
          "output_type": "stream",
          "name": "stdout",
          "text": [
            "Uploading video file to the File API...\n",
            "File uploaded successfully\n"
          ]
        }
      ]
    },
    {
      "cell_type": "code",
      "source": [
        "#@title Describe what's in the video!\n",
        "from IPython.display import display, Markdown\n",
        "\n",
        "prompt = \"Provide a short description of what this video teaches.\"\n",
        "response = client.models.generate_content(\n",
        "    model=\"gemini-2.5-flash\",\n",
        "    contents=[\n",
        "        airplane_video,\n",
        "        prompt,\n",
        "    ]\n",
        ")\n",
        "\n",
        "Markdown(response.text)"
      ],
      "metadata": {
        "colab": {
          "base_uri": "https://localhost:8080/",
          "height": 64
        },
        "id": "3alOn5CLd2o6",
        "outputId": "58fa55ff-93c4-4a82-cea2-dc1f66397a13"
      },
      "execution_count": 6,
      "outputs": [
        {
          "output_type": "execute_result",
          "data": {
            "text/plain": [
              "<IPython.core.display.Markdown object>"
            ],
            "text/markdown": "This video teaches viewers how to fold a high-performance paper airplane called the \"Road Runner\" in under 60 seconds. It demonstrates a simple, quick folding method for a plane designed for long flights (over 100 feet) with excellent speed and glide."
          },
          "metadata": {},
          "execution_count": 6
        }
      ]
    },
    {
      "cell_type": "code",
      "source": [
        "#@title Extract a time-stamped list of steps\n",
        "\n",
        "prompt = \"Provide a list of the key steps shown in this video, including their start and end timestamps.\"\n",
        "response = client.models.generate_content(\n",
        "    model=\"gemini-2.5-flash\",\n",
        "    contents=[\n",
        "        airplane_video,\n",
        "        prompt,\n",
        "    ]\n",
        ")\n",
        "\n",
        "display(Markdown(response.text))\n"
      ],
      "metadata": {
        "colab": {
          "base_uri": "https://localhost:8080/",
          "height": 226
        },
        "id": "_d6faaTdeL-K",
        "outputId": "e538887e-b873-4faa-aa6c-b8e24c3f80b2"
      },
      "execution_count": 7,
      "outputs": [
        {
          "output_type": "display_data",
          "data": {
            "text/plain": [
              "<IPython.core.display.Markdown object>"
            ],
            "text/markdown": "Here are the key steps for making the paper airplane, with their corresponding timestamps:\n\n*   **0:00 - 0:19**: Introduction to the paper airplane and the challenge.\n*   **0:20 - 0:24**: Fold the paper in half lengthwise.\n*   **0:25 - 0:35**: Open the paper and fold the top corners inwards towards the center crease, leaving a small gap.\n*   **0:36 - 0:48**: Fold the new side edges inwards again towards the center, maintaining a small gap.\n*   **0:49 - 1:02**: Fold the outer edges inwards one more time, making the plane narrow and leaving a gap.\n*   **1:03 - 1:05**: Fold the entire paper airplane in half lengthwise.\n*   **1:05 - 1:11**: Fold down the first wing by aligning the top edge with the bottom edge.\n*   **1:11 - 1:17**: Unfold the first wing, then fold down the second wing in the same manner.\n*   **1:18 - 1:25**: The paper airplane is complete (mention of optional tape).\n*   **1:26 - 1:39**: Demonstrating the paper airplane flying."
          },
          "metadata": {}
        }
      ]
    },
    {
      "cell_type": "markdown",
      "source": [
        "## Part 2: Creative Analysis of a Scenic Video (Yosemite)\n",
        "\n",
        "Now, let's use a different video to perform a more creative task. We'll download a short, beautiful drone video of Yosemite National Park and ask Gemini to write a travel blog introduction based on the visuals."
      ],
      "metadata": {
        "id": "Wj904UYKfS9V"
      }
    },
    {
      "cell_type": "code",
      "source": [
        "#@title Download and Upload the Yosemite Video\n",
        "URL = \"https://raw.githubusercontent.com/gopidon/gemini-advanced-api-course/main/Section_2_Advanced_Multimodality/videos/yosemite.mp4\"\n",
        "!wget -q $URL -O yosemite.mp4"
      ],
      "metadata": {
        "id": "_EduvbJIfXFO"
      },
      "execution_count": 8,
      "outputs": []
    },
    {
      "cell_type": "code",
      "source": [
        "print(\"Uploading video file to the File API...\")\n",
        "yosemite_video = client.files.upload(file='yosemite.mp4')\n",
        "\n",
        "print(f\"File uploaded successfully\")"
      ],
      "metadata": {
        "colab": {
          "base_uri": "https://localhost:8080/"
        },
        "id": "MSnj9bNkffMy",
        "outputId": "ef178387-1916-4c79-c6db-1437b4609f11"
      },
      "execution_count": 9,
      "outputs": [
        {
          "output_type": "stream",
          "name": "stdout",
          "text": [
            "Uploading video file to the File API...\n",
            "File uploaded successfully\n"
          ]
        }
      ]
    },
    {
      "cell_type": "code",
      "source": [
        "#@title Perform a Creative Writing Task\n",
        "print(\"\\n--- Asking for a creative travel blog intro based on the Yosemite video ---\")\n",
        "\n",
        "prompt = \"Based on this scenic video clip of Yosemite National Park, write a short and captivating introduction for a travel blog post.\"\n",
        "response = client.models.generate_content(\n",
        "    model=\"gemini-2.5-flash\",\n",
        "    contents=[\n",
        "        yosemite_video,\n",
        "        prompt,\n",
        "    ]\n",
        ")\n",
        "\n",
        "Markdown(response.text)"
      ],
      "metadata": {
        "colab": {
          "base_uri": "https://localhost:8080/",
          "height": 272
        },
        "id": "i-LmHnUPftq6",
        "outputId": "9667aed0-ed90-4452-fed7-1c6c6aa95458"
      },
      "execution_count": 10,
      "outputs": [
        {
          "output_type": "stream",
          "name": "stdout",
          "text": [
            "\n",
            "--- Asking for a creative travel blog intro based on the Yosemite video ---\n"
          ]
        },
        {
          "output_type": "execute_result",
          "data": {
            "text/plain": [
              "<IPython.core.display.Markdown object>"
            ],
            "text/markdown": "Here's a captivating introduction for a travel blog post about Yosemite National Park, inspired by the video:\n\n---\n\n**Yosemite: Where Nature's Grandeur Reaches New Heights**\n\nPrepare to be awe-struck. Tucked away in the heart of California's Sierra Nevadas lies Yosemite National Park, a sprawling masterpiece covering over 1,000 square miles of untamed beauty. This isn't just a park; it's a symphony of majestic granite cliffs, thunderous waterfalls, tranquil meadows, and ancient forests, all bursting with vibrant life.\n\nFrom the dizzying heights of Glacier Point, offering panoramic views of Half Dome and Yosemite Valley, to the thundering spray of North America's tallest waterfall, Yosemite Falls, every corner of this park promises an unforgettable experience. Whether you're navigating scenic routes, walking among giant sequoias that have stood for millennia, or discovering alpine wildflowers in bloom, Yosemite truly is a marvel. And as you explore, keep your eyes peeled – deer graze peacefully, bears fish in the rivers, and golden eagles soar overhead, reminding you that you're in one of nature's last great wild sanctuaries.\n\nReady to discover the magic? Join us as we explore the 5 must-see attractions that make Yosemite an essential stop on any nature lover's itinerary."
          },
          "metadata": {},
          "execution_count": 10
        }
      ]
    },
    {
      "cell_type": "markdown",
      "source": [
        "## Part 3: Analyse Youtube Videos\n",
        "\n",
        "On top of using your own videos you can also ask Gemini to get a video from Youtube and analyze it. He's an example using the keynote from Google IO 2023. Guess what the main theme was?"
      ],
      "metadata": {
        "id": "DRMQApxlghXf"
      }
    },
    {
      "cell_type": "code",
      "source": [
        "from google.genai import types\n",
        "\n",
        "response = client.models.generate_content(\n",
        "    model= \"gemini-2.5-flash\",\n",
        "    contents=types.Content(\n",
        "        parts=[\n",
        "            types.Part(text=\"Find all the instances where Sundar says \\\"AI\\\". Provide timestamps and broader context for each instance.\"),\n",
        "            types.Part(\n",
        "                file_data=types.FileData(file_uri='https://www.youtube.com/watch?v=ixRanV-rdAQ')\n",
        "            )\n",
        "        ]\n",
        "    )\n",
        ")\n",
        "\n",
        "Markdown(response.text)"
      ],
      "metadata": {
        "colab": {
          "base_uri": "https://localhost:8080/",
          "height": 1000
        },
        "id": "QvjwPF3egt_x",
        "outputId": "45d91a1f-805e-420b-a9a2-12e94551f312"
      },
      "execution_count": 11,
      "outputs": [
        {
          "output_type": "execute_result",
          "data": {
            "text/plain": [
              "<IPython.core.display.Markdown object>"
            ],
            "text/markdown": "Here are all the instances where Sundar says \"AI\" in the video, along with timestamps and broader context:\n\n1.  **0:29**: \"...As you may have heard, **AI** is having a very busy year.\"\n    *   **Context**: Sundar is opening Google I/O and immediately highlights the importance and rapid development of AI, setting the tone for the keynote.\n\n2.  **0:39**: \"...Seven years into our journey as an **AI** first company, we are at an exciting inflection point.\"\n    *   **Context**: He refers to Google's long-term commitment to AI and positions the current moment as a significant advancement in AI capabilities.\n\n3.  **0:47**: \"...We have an opportunity to make **AI** even more helpful...\"\n    *   **Context**: He emphasizes the potential of AI to benefit people, businesses, communities, and everyone.\n\n4.  **0:54**: \"...We've been applying **AI** to make our products radically more helpful for a while.\"\n    *   **Context**: He explains that AI has long been integrated into Google products to enhance their utility.\n\n5.  **0:59**: \"...With generative **AI**, we are taking the next step.\"\n    *   **Context**: He introduces generative AI as the next phase of AI integration into Google's core products, including Search.\n\n6.  **1:17**: \"...Let me start with few examples of how generative **AI** is helping to evolve our products...\"\n    *   **Context**: He transitions to showcasing specific product examples, starting with Gmail, where generative AI is used for features like \"Help me write.\"\n\n7.  **1:41**: \"...Smart Compose led to more advanced writing features powered by **AI**.\"\n    *   **Context**: He references previous AI-powered features in Gmail like Smart Compose and how they laid the groundwork for new generative AI capabilities.\n\n8.  **1:45**: \"...**AI** features used 180 billion times last year.\"\n    *   **Context**: He highlights the widespread adoption of AI features in Google Workspace, indicating significant user engagement.\n\n9.  **2:54**: \"...And just like with Smart Compose, you will see it get better over time.\"\n    *   **Context**: Sundar Pichai mentions how Smart Compose uses AI and hints at the continuous improvement of such features.\n\n10. **3:02**: \"...Since the early days of Street View, **AI** has stitched together billions of panoramic images...\"\n    *   **Context**: He talks about how AI has been instrumental in creating immersive experiences like Street View in Google Maps.\n\n11. **3:13**: \"...At last year's I/O, we introduced Immersive View, which uses **AI** to create a high-fidelity representation of a place...\"\n    *   **Context**: He discusses the role of AI in generating realistic 3D representations of cities and landmarks in Google Maps.\n\n12. **5:07**: \"...Another product made better by **AI** is Google Photos.\"\n    *   **Context**: He introduces Google Photos as another example of a product enhanced by AI.\n\n13. **5:16**: \"...It was one of our first **AI**-native products.\"\n    *   **Context**: He recalls that Google Photos was designed with AI at its core from its inception in 2015.\n\n14. **5:40**: \"...**AI** advancements give us more powerful ways to do this.\"\n    *   **Context**: He is talking about improving photos and how AI enables more advanced editing features like Magic Eraser and Magic Editor.\n\n15. **5:48**: \"...Magic Eraser, launched first on Pixel, uses **AI**-powered computational photography to remove unwanted distractions.\"\n    *   **Context**: He explains the AI technology behind Magic Eraser in Google Photos.\n\n16. **7:41**: \"...These are just a few examples of how **AI** can help you in moments that matter.\"\n    *   **Context**: He concludes a segment showcasing various Google products (Gmail, Maps, Photos) and their AI enhancements, emphasizing AI's practical benefits.\n\n17. **7:49**: \"...And there is so much more we can do to deliver the full potential of **AI** across the products you know and love.\"\n    *   **Context**: He looks ahead to future possibilities of integrating AI further into Google's product ecosystem.\n\n18. **8:24**: \"...Making **AI** helpful for everyone is the most profound way we will advance our mission.\"\n    *   **Context**: He outlines Google's core mission with AI: to make it universally helpful.\n\n19. **8:52**: \"...And finally, by building and deploying **AI** responsibly so that everyone can benefit equally.\"\n    *   **Context**: He emphasizes the importance of responsible AI development and deployment.\n\n20. **9:04**: \"...Our ability to make **AI** helpful for everyone relies on continuously advancing our foundation models.\"\n    *   **Context**: He connects Google's AI mission to the development of powerful foundation models.\n\n21. **11:27**: \"...It uses **AI** to better detect malicious scripts and can help security experts understand and resolve threats.\"\n    *   **Context**: He describes how Sec-PaLM, an AI model, is fine-tuned for security use cases.\n\n22. **12:14**: \"...You can imagine an **AI** collaborator that helps radiologists interpret images and communicate the results.\"\n    *   **Context**: He discusses future capabilities of Med-PaLM 2, an AI model fine-tuned for medical knowledge, suggesting its role as a medical imaging assistant.\n\n23. **12:47**: \"...PaLM 2 is the latest step in our decade-long journey to bring **AI** in responsible ways to billions of people.\"\n    *   **Context**: He reiterates Google's long-term commitment to AI development and its responsible deployment.\n\n24. **13:00**: \"...Looking back at the defining **AI** breakthroughs over the last decade...\"\n    *   **Context**: He acknowledges the significant contributions of Google's AI teams to various breakthroughs in the field.\n\n25. **13:28**: \"...This includes our next generation foundation model, Gemini, which is still in training.\"\n    *   **Context**: Sundar Pichai introduces Google's next-generation AI foundation model, Gemini.\n\n26. **14:10**: \"...As we invest in more advanced models, we are also deeply investing in **AI** responsibility.\"\n    *   **Context**: He emphasizes Google's commitment to responsible AI development alongside technological advancements.\n\n27. **15:06**: \"...We'll ensure every one of our **AI**-generated images has that metadata.\"\n    *   **Context**: He discusses embedding metadata into AI-generated images as part of responsible AI practices."
          },
          "metadata": {},
          "execution_count": 11
        }
      ]
    },
    {
      "cell_type": "markdown",
      "source": [
        "## Part 4: Reasoning About Real-World Objects & Text\n",
        "\n",
        "This part demonstrates Gemini's advanced ability to not only \"see\" objects but also to read handwritten text or labels associated with them, and then structure that information. This is powerful for tasks like inventory management, price checking, or digitizing real-world displays."
      ],
      "metadata": {
        "id": "APyvQMGzi-jh"
      }
    },
    {
      "cell_type": "code",
      "source": [
        "#@title Ask for Structured Information about Objects and Text\n",
        "# The prompt instructs the model to identify items, read their prices/labels,\n",
        "# and return the information in a structured format.\n",
        "\n",
        "prompt = \"\"\"\n",
        "Analyze this video of an antique display. For each unique item where a price or label is visible,\n",
        "list the item and its associated price or note. If no price is visible, state \"Price not visible\".\n",
        "Provide the output as a numbered list.\n",
        "\"\"\"\n",
        "\n",
        "response = client.models.generate_content(\n",
        "    model= \"gemini-2.5-flash\",\n",
        "    contents=types.Content(\n",
        "        parts=[\n",
        "            types.Part(text=prompt),\n",
        "            types.Part(\n",
        "                file_data=types.FileData(file_uri='https://www.youtube.com/watch?v=0DGGwo_qe4A')\n",
        "            )\n",
        "        ]\n",
        "    )\n",
        ")\n",
        "\n",
        "Markdown(response.text)"
      ],
      "metadata": {
        "colab": {
          "base_uri": "https://localhost:8080/",
          "height": 661
        },
        "id": "QGA1FuAQiS6F",
        "outputId": "280d36fe-c35b-426a-e186-2d434b999a0b"
      },
      "execution_count": 12,
      "outputs": [
        {
          "output_type": "execute_result",
          "data": {
            "text/plain": [
              "<IPython.core.display.Markdown object>"
            ],
            "text/markdown": "Here is a numbered list of unique items from the video with visible prices or notes:\n\n1.  **Black apothecary chest with brass drawer pulls:** Price: $55 (visible at 2:28)\n2.  **Magnolia Home green canister:** Price: $4.99 (visible at 3:57)\n3.  **White floral embossed tall dresser with gold knobs:** Price: $195 (visible at 5:39)\n4.  **Silver ornate oval mirror:** Price: $70 (visible at 5:17)\n5.  **White floral embossed three-drawer dresser with dark metal pulls:** Price: $175 (visible at 5:43)\n6.  **Black and brown secretary desk with gold hardware:** Price: $225 (visible at 6:54)\n7.  **Tall natural wood candle holder:** Price: $25 (visible at 7:23)\n8.  **Shorter natural wood candle holder:** Price: $20 (visible at 7:23)\n9.  **Black round corner cabinet with marble top:** Price: $150 (visible at 7:44)\n10. **Strand of pearls:** Price: $15 (visible at 8:03)\n\nThe following items are visible but do not have an associated price tag shown in the video:\n\n11. **Three ornate oval gold mirrors:** Price not visible\n12. **Small rectangular wooden window-frame-like mirror:** Price not visible\n13. **Green glass pedestal bowl:** Price not visible\n14. **White display cabinet (far left):** Price not visible\n15. **Ornate gold rectangular mirror (vertical):** Price not visible\n16. **Ornate white rectangular mirror:** Price not visible\n17. **Ornate gold rectangular mirror (horizontal):** Price not visible\n18. **Vintage Hollywood Regency lamp (cherub base, green glass top):** Price not visible\n19. **Vintage mister bottle:** Price not visible\n20. **Gray coffee table with glass inserts:** Price not visible\n21. **White display cabinet with blue and white porcelain:** Price not visible\n22. **Small rectangular table with blue and white design drawers:** Price not visible\n23. **White octagonal side table with gold floral detail:** Price not visible\n24. **White corner shelf with assorted decor:** Price not visible\n25. **Decorative signs on white shelf:** Price not visible\n26. **Black ornate oval mirror:** Price not visible\n27. **Wooden letter \"A\" (hollow):** Price not visible\n28. **Wooden letter \"A\" (grooved):** Price not visible\n29. **Large antique keys:** Price not visible\n30. **Gold hand statue:** Price not visible\n31. **White bust statue:** Price not visible\n32. **Black bust statue:** Price not visible\n33. **White wooden bench with heart cutouts and blue pillow:** Price not visible"
          },
          "metadata": {},
          "execution_count": 12
        }
      ]
    }
  ]
}