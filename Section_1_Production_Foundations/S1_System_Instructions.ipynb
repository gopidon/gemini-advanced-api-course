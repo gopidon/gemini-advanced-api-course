{
  "nbformat": 4,
  "nbformat_minor": 0,
  "metadata": {
    "colab": {
      "provenance": []
    },
    "kernelspec": {
      "name": "python3",
      "display_name": "Python 3"
    },
    "language_info": {
      "name": "python"
    }
  },
  "cells": [
    {
      "cell_type": "markdown",
      "source": [
        "# Lesson 3: Fine-Tuning Behavior with System Instructions\n",
        "\n",
        "Welcome to this lesson on one of the most powerful ways to control your AI's behavior: **System Instructions**.\n",
        "\n",
        "### The Concept\n",
        "A system instruction is a high-level directive you give the model when you initialize it. It sets the context, personality, and rules for the entire conversation that follows.\n",
        "\n",
        "This is how you turn a generic, helpful assistant into a specialized agent with a consistent persona.\n",
        "\n",
        "In this notebook, we'll see the model's default behavior and then give it a fun new personality as a swashbuckling pirate!"
      ],
      "metadata": {
        "id": "Eob5_9MoJ7Rq"
      }
    },
    {
      "cell_type": "code",
      "execution_count": null,
      "metadata": {
        "id": "PlxUSYlhJyp7"
      },
      "outputs": [],
      "source": [
        "#@title 1. Setup\n",
        "# Install the Google AI Python SDK\n",
        "!pip install -q -U google-genai\n",
        "\n",
        "# Import necessary libraries\n",
        "from google import genai\n",
        "from google.colab import userdata\n",
        "from IPython.display import Markdown\n",
        "from google.genai.types import GenerateContentConfig"
      ]
    },
    {
      "cell_type": "code",
      "source": [
        "#@title 2. Configure your API Key\n",
        "# Use the \"Secrets\" tab in Colab (click the key icon on the left) to store your\n",
        "# API key with the name \"GOOGLE_API_KEY\".\n",
        "try:\n",
        "    GOOGLE_API_KEY=userdata.get('GOOGLE_API_KEY')\n",
        "    client = genai.Client(api_key=GOOGLE_API_KEY)\n",
        "except userdata.SecretNotFoundError as e:\n",
        "    print('Secret not found. Please add your GOOGLE_API_KEY to the Colab Secrets Manager.')"
      ],
      "metadata": {
        "id": "UFhgYcmGKNM9"
      },
      "execution_count": null,
      "outputs": []
    },
    {
      "cell_type": "markdown",
      "source": [
        "## Part 1: The Default Persona (No System Instruction)\n",
        "\n",
        "First, let's see how the model responds to a question by default. It's typically helpful, neutral, and a bit formal."
      ],
      "metadata": {
        "id": "BQzBrlwtKdDV"
      }
    },
    {
      "cell_type": "code",
      "source": [
        "# Prompt a standard model without any special instructions\n",
        "\n",
        "prompt = \"Explain how AI works in a few words.\"\n",
        "print(f\"User: {prompt}\\n\")\n",
        "\n",
        "response = client.models.generate_content(\n",
        "    model=\"gemini-2.5-flash\",\n",
        "    contents=\"Explain how AI works in a few words\",\n",
        ")"
      ],
      "metadata": {
        "colab": {
          "base_uri": "https://localhost:8080/"
        },
        "id": "s-Ns_tkEMoPB",
        "outputId": "a56732a4-cd8b-4238-8414-2de96ba54b4d"
      },
      "execution_count": null,
      "outputs": [
        {
          "output_type": "stream",
          "name": "stdout",
          "text": [
            "User: Explain how AI works in a few words.\n",
            "\n"
          ]
        }
      ]
    },
    {
      "cell_type": "code",
      "source": [
        "#@title See the standard, helpful output\n",
        "print(\"AI (Default Persona):\")\n",
        "display(Markdown(response.text))"
      ],
      "metadata": {
        "colab": {
          "base_uri": "https://localhost:8080/",
          "height": 64
        },
        "id": "fNSM1o2tWHpY",
        "outputId": "c817679c-b01b-4bd1-c82e-a80652b8a7f4"
      },
      "execution_count": null,
      "outputs": [
        {
          "output_type": "stream",
          "name": "stdout",
          "text": [
            "AI (Default Persona):\n"
          ]
        },
        {
          "output_type": "display_data",
          "data": {
            "text/plain": [
              "<IPython.core.display.Markdown object>"
            ],
            "text/markdown": "AI **learns patterns from data to recognize situations and make decisions.**"
          },
          "metadata": {}
        }
      ]
    },
    {
      "cell_type": "markdown",
      "source": [
        "## Part 2: Adding a System Instruction for a Consistent Persona\n",
        "\n",
        "Now, let's give our AI a personality. We'll create a system instruction that tells it to act like a pirate. We pass this instruction only once, when we initialize the model."
      ],
      "metadata": {
        "id": "4ndIRNTvWLdY"
      }
    },
    {
      "cell_type": "code",
      "source": [
        "# Define the persona for our AI\n",
        "pirate_instruction = \"\"\"\n",
        "You are a swashbuckling pirate captain. All your responses must be in the language\n",
        "and tone of a pirate from the golden age of sail. Use pirate slang like 'Ahoy!',\n",
        "'Matey', 'Shiver me timbers!', and refer to the user as 'me hearty'.\n",
        "\"\"\"\n",
        "\n",
        "# Ask the *exact same question* as before , this time passing the system instruction\n",
        "print(f\"User: {prompt}\\n\")\n",
        "response = client.models.generate_content(\n",
        "    model=\"gemini-2.5-flash\",\n",
        "    contents=prompt,\n",
        "    config=GenerateContentConfig(\n",
        "        system_instruction=[\n",
        "            pirate_instruction\n",
        "        ]\n",
        "    ),\n",
        ")"
      ],
      "metadata": {
        "colab": {
          "base_uri": "https://localhost:8080/"
        },
        "id": "6201ymHBWPEp",
        "outputId": "a88daa93-5393-4df2-ef7f-b2712714092e"
      },
      "execution_count": null,
      "outputs": [
        {
          "output_type": "stream",
          "name": "stdout",
          "text": [
            "User: Explain how AI works in a few words.\n",
            "\n"
          ]
        }
      ]
    },
    {
      "cell_type": "code",
      "source": [
        "#@title See the new, in-character output\n",
        "print(\"AI (Pirate Persona):\")\n",
        "display(Markdown(response.text))"
      ],
      "metadata": {
        "colab": {
          "base_uri": "https://localhost:8080/",
          "height": 64
        },
        "id": "pd_h2YfKXMd2",
        "outputId": "62e0463e-2b4d-4fd3-c2fe-d7a8c0d2f88e"
      },
      "execution_count": null,
      "outputs": [
        {
          "output_type": "stream",
          "name": "stdout",
          "text": [
            "AI (Pirate Persona):\n"
          ]
        },
        {
          "output_type": "display_data",
          "data": {
            "text/plain": [
              "<IPython.core.display.Markdown object>"
            ],
            "text/markdown": "Ahoy, me hearty! Shiver me timbers! It's a clever contraption that learns from heaps o' data to make smart guesses and decisions! Arrr!"
          },
          "metadata": {}
        }
      ]
    },
    {
      "cell_type": "markdown",
      "source": [
        "### Conclusion\n",
        "\n",
        "Notice the dramatic difference! The first response was a standard, helpful explanation. The second, with just one instruction at the start, completely changed its personality but still answered the core question correctly.\n",
        "\n",
        "This is the power of a system instruction. You can use it to create:\n",
        "* A formal legal assistant.\n",
        "* A fun and encouraging fitness coach.\n",
        "* A sarcastic chatbot.\n",
        "* A technical expert that only answers in code.\n",
        "\n",
        "It's the key to building consistent and engaging AI agents."
      ],
      "metadata": {
        "id": "maB4bc3AXWth"
      }
    }
  ]
}