{
  "nbformat": 4,
  "nbformat_minor": 0,
  "metadata": {
    "colab": {
      "provenance": []
    },
    "kernelspec": {
      "name": "python3",
      "display_name": "Python 3"
    },
    "language_info": {
      "name": "python"
    }
  },
  "cells": [
    {
      "cell_type": "markdown",
      "source": [
        "# Lesson 2: Guaranteed Structure with the Gemini API\n",
        "\n",
        "Welcome to this lesson on the most robust method for getting structured, predictable output from the Gemini API.\n",
        "\n",
        "### The Problem\n",
        "When you ask an LLM for data, its default text response can be inconsistent and filled with conversational text, making it difficult to use in an application.\n",
        "\n",
        "### The Solution: Response Schemas\n",
        "Instead of just asking for JSON in the prompt, we can provide a **`response_schema`**. This is a programmatic definition (like a Python class) of the exact data structure we want. This forces the model to return a predictable Python object, which is even better than a JSON string.\n",
        "\n",
        "In this notebook, we'll first see the problem with unstructured text and then solve it using this powerful schema-based approach."
      ],
      "metadata": {
        "id": "7qXKn_YciuIl"
      }
    },
    {
      "cell_type": "code",
      "source": [
        "#@title 1. Setup\n",
        "# Install the Google AI Python SDK\n",
        "!pip install -q -U google-genai\n",
        "\n",
        "# Import necessary libraries\n",
        "from google import genai\n",
        "import json\n",
        "import typing\n",
        "from google.colab import userdata"
      ],
      "metadata": {
        "id": "SsHs_OtGjOi4"
      },
      "execution_count": 16,
      "outputs": []
    },
    {
      "cell_type": "code",
      "source": [
        "#@title 2. Configure your API Key\n",
        "# To use the Gemini API, you need an API key.\n",
        "# You can get one from Google AI Studio: https://aistudio.google.com/app/apikey\n",
        "#\n",
        "# Use the \"Secrets\" tab in Colab (click the key icon on the left) to store your\n",
        "# API key with the name \"GOOGLE_API_KEY\". This is more secure than pasting it directly.\n",
        "\n",
        "try:\n",
        "    GOOGLE_API_KEY=userdata.get('GOOGLE_API_KEY')\n",
        "    client = genai.Client(api_key=GOOGLE_API_KEY)\n",
        "except userdata.SecretNotFoundError as e:\n",
        "    print('Secret not found. Please add your GOOGLE_API_KEY to the Colab Secrets Manager.')\n",
        "    # Or, uncomment and paste your key here for a quick test:\n",
        "    # GOOGLE_API_KEY=\"YOUR_API_KEY\""
      ],
      "metadata": {
        "id": "XmmtWJNTj-3B"
      },
      "execution_count": 7,
      "outputs": []
    },
    {
      "cell_type": "markdown",
      "source": [
        "## Part 1: The Problem - Unpredictable Text Output\n",
        "\n",
        "First, let's see what happens when we ask a standard model for product information. The output is conversational and has no consistent structure."
      ],
      "metadata": {
        "id": "eKpjQMItlFGM"
      }
    },
    {
      "cell_type": "code",
      "source": [
        "# Our unstructured text data\n",
        "unstructured_text = \"\"\"\n",
        "The new Aero-Drone X is an amazing piece of technology. It features a high-resolution 4K camera,\n",
        "an impressive 30-minute flight time, and advanced obstacle avoidance sensors.\n",
        "It is available for purchase now at a price of $499.99. Don't miss out!\n",
        "\"\"\"\n",
        "\n",
        "\n",
        "# A simple prompt asking for information\n",
        "prompt_for_text = f\"Extract the key information from this description: {unstructured_text}\"\n",
        "\n",
        "print(f\"Sending a simple prompt:\\n'{prompt_for_text}'\\n\")\n",
        "\n",
        "# Get the unpredictable, conversational response\n",
        "\n",
        "response = client.models.generate_content(\n",
        "    model=\"gemini-2.5-flash\",\n",
        "    contents=prompt_for_text\n",
        ")"
      ],
      "metadata": {
        "colab": {
          "base_uri": "https://localhost:8080/"
        },
        "id": "wLYRx-pjlJlv",
        "outputId": "33488a1b-0d2a-4644-bdbe-878b980f35bd"
      },
      "execution_count": 13,
      "outputs": [
        {
          "output_type": "stream",
          "name": "stdout",
          "text": [
            "Sending a simple prompt:\n",
            "'Extract the key information from this description: \n",
            "The new Aero-Drone X is an amazing piece of technology. It features a high-resolution 4K camera, \n",
            "an impressive 30-minute flight time, and advanced obstacle avoidance sensors. \n",
            "It is available for purchase now at a price of $499.99. Don't miss out!\n",
            "'\n",
            "\n"
          ]
        }
      ]
    },
    {
      "cell_type": "code",
      "source": [
        "#@title See the messy, unstructured output\n",
        "print(response.text)\n",
        "\n",
        "print(\"\\n\\n---\")\n",
        "print(\"Notice how this is just a wall of text? To get the price or features,\")\n",
        "print(\"we would have to write complex code to parse this string.\")"
      ],
      "metadata": {
        "colab": {
          "base_uri": "https://localhost:8080/"
        },
        "id": "Cu1Ca4HOlfB9",
        "outputId": "a6a751b2-e1bc-46c8-c0e5-4985602d56c8"
      },
      "execution_count": 14,
      "outputs": [
        {
          "output_type": "stream",
          "name": "stdout",
          "text": [
            "Here's the key information from the description:\n",
            "\n",
            "*   **Product Name:** Aero-Drone X\n",
            "*   **Key Features:**\n",
            "    *   High-resolution 4K camera\n",
            "    *   30-minute flight time\n",
            "    *   Advanced obstacle avoidance sensors\n",
            "*   **Price:** $499.99\n",
            "*   **Availability:** Available for purchase now\n",
            "\n",
            "\n",
            "---\n",
            "Notice how this is just a wall of text? To get the price or features,\n",
            "we would have to write complex code to parse this string.\n"
          ]
        }
      ]
    },
    {
      "cell_type": "markdown",
      "source": [
        "## Part 2: The Solution - Using a Response Schema\n",
        "\n",
        "Now, let's solve this problem. We'll define our desired data structure as a Python class and pass it to the model. This forces the model to structure its response according to our exact specifications."
      ],
      "metadata": {
        "id": "uKVKXc2Flxh2"
      }
    },
    {
      "cell_type": "code",
      "source": [
        "#@title 1. Define the Response Schema\n",
        "# We define our desired structure using standard Python typing.\n",
        "# This class tells the model exactly what fields to include and their types.\n",
        "from pydantic import BaseModel\n",
        "\n",
        "class Product(BaseModel):\n",
        "  product_name: str\n",
        "  features: list[str]\n",
        "  price: float\n",
        "  availability: str\n",
        "\n",
        "print(\"Schema defined successfully!\")"
      ],
      "metadata": {
        "colab": {
          "base_uri": "https://localhost:8080/"
        },
        "id": "l_mBpxdyl1aI",
        "outputId": "f752b9eb-b858-4d46-b1d1-fd16eceb002f"
      },
      "execution_count": 26,
      "outputs": [
        {
          "output_type": "stream",
          "name": "stdout",
          "text": [
            "Schema defined successfully!\n"
          ]
        }
      ]
    },
    {
      "cell_type": "code",
      "source": [
        "#@title 2. Configure and Initialize the Model\n",
        "# We will use a model that is optimized for following structured output instructions.\n",
        "# The key step is passing our Product class as the response_schema.\n",
        "\n",
        "# The prompt can now be much simpler. We don't need to describe the JSON format.\n",
        "prompt_for_schema = f\"Extract the product information from this text: {unstructured_text}\"\n",
        "\n",
        "# The response_schema should be a dictionary that defines the schema.\n",
        "# The SDK will convert the NamedTuple to the correct dictionary format.\n",
        "response = client.models.generate_content(\n",
        "    model=\"gemini-2.5-flash\",\n",
        "    contents=prompt_for_schema,\n",
        "    config={\n",
        "        \"response_mime_type\": \"application/json\",\n",
        "        \"response_schema\": Product\n",
        "    },\n",
        ")"
      ],
      "metadata": {
        "id": "jAkNJQDmnbp9"
      },
      "execution_count": 27,
      "outputs": []
    },
    {
      "cell_type": "code",
      "source": [
        "#@title 3. See the clean, structured output\n",
        "# The model's response is no longer just text. It's a structured Python object\n",
        "# that perfectly matches the schema we defined.\n",
        "product_object = response.parsed\n",
        "\n",
        "print(\"--- The model returned a structured object ---\")\n",
        "print(product_object)\n",
        "\n",
        "print(\"\\n\\n--- We can now easily access the data ---\")\n",
        "print(f\"Product Name: {product_object.product_name}\\n\")\n",
        "\n",
        "print(\"Features:\")\n",
        "for feature in product_object.features:\n",
        "  print(f\"- {feature}\")\n",
        "\n",
        "print(f\"\\nPrice: ${product_object.price}\")"
      ],
      "metadata": {
        "colab": {
          "base_uri": "https://localhost:8080/"
        },
        "id": "xLzo5cbYo7ez",
        "outputId": "27e29710-4731-45b2-9751-019773592381"
      },
      "execution_count": 29,
      "outputs": [
        {
          "output_type": "stream",
          "name": "stdout",
          "text": [
            "--- The model returned a structured object ---\n",
            "product_name='Aero-Drone X' features=['high-resolution 4K camera', '30-minute flight time', 'advanced obstacle avoidance sensors'] price=499.99 availability='available for purchase now'\n",
            "\n",
            "\n",
            "--- We can now easily access the data ---\n",
            "Product Name: Aero-Drone X\n",
            "\n",
            "Features:\n",
            "- high-resolution 4K camera\n",
            "- 30-minute flight time\n",
            "- advanced obstacle avoidance sensors\n",
            "\n",
            "Price: $499.99\n"
          ]
        }
      ]
    }
  ]
}